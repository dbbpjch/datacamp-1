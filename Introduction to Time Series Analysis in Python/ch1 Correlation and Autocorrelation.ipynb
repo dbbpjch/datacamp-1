{
 "cells": [
  {
   "cell_type": "markdown",
   "metadata": {},
   "source": [
    "# ch1: Correlation and Autocorrelation"
   ]
  },
  {
   "cell_type": "code",
   "execution_count": null,
   "metadata": {
    "collapsed": true
   },
   "outputs": [],
   "source": [
    "# Import pandas and plotting modules\n",
    "import pandas as pd\n",
    "import matplotlib.pyplot as plt\n",
    "\n",
    "# Convert the date index to datetime\n",
    "diet.index = pd.to_datetime(diet.index)\n",
    "\n",
    "# Plot 2012 data using slicing\n",
    "diet['2012'].plot()\n",
    "plt.show()\n",
    "\n",
    "# Plot the entire time series diet and show gridlines\n",
    "diet.plot(grid=True)\n",
    "plt.show()\n"
   ]
  },
  {
   "cell_type": "markdown",
   "metadata": {},
   "source": [
    "## Merging Time Series With Different Dates"
   ]
  },
  {
   "cell_type": "code",
   "execution_count": null,
   "metadata": {
    "collapsed": true
   },
   "outputs": [],
   "source": [
    "# Import pandas\n",
    "import pandas as pd\n",
    "\n",
    "# Convert the stock index and bond index into sets\n",
    "set_stock_dates = set(stocks.index)\n",
    "set_bond_dates = set(bonds.index)\n",
    "\n",
    "# Take the difference between the sets and print\n",
    "print(set_stock_dates - set_bond_dates)\n",
    "\n",
    "# Merge stocks and bonds DataFrames using join()\n",
    "# To get the intersection of dates, use the argument how='inner'.\n",
    "stocks_and_bonds = stocks.join(bonds,how='inner')\n"
   ]
  },
  {
   "cell_type": "markdown",
   "metadata": {},
   "source": [
    "## Correlation"
   ]
  },
  {
   "cell_type": "code",
   "execution_count": null,
   "metadata": {
    "collapsed": true
   },
   "outputs": [],
   "source": [
    "# Compute percent change using pct_change()\n",
    "returns = stocks_and_bonds.pct_change()\n",
    "\n",
    "# Compute correlation using corr()\n",
    "# using the .corr() method for Series which has the syntax series1.corr(series2).\n",
    "correlation = returns['SP500'].corr(returns['US10Y'])\n",
    "print(\"Correlation of stocks and interest rates: \", correlation)\n",
    "\n",
    "# Make scatter plot\n",
    "plt.scatter(returns['SP500'],returns['US10Y'])\n",
    "plt.show()\n"
   ]
  },
  {
   "cell_type": "code",
   "execution_count": null,
   "metadata": {
    "collapsed": true
   },
   "outputs": [],
   "source": [
    "# Compute correlation of levels\n",
    "correlation1 = levels['DJI'].corr(levels['UFO'])\n",
    "print(\"Correlation of levels: \", correlation1)\n",
    "\n",
    "# Compute correlation of percent changes\n",
    "changes = levels.pct_change()\n",
    "correlation2 = changes['DJI'].corr(changes['UFO'])\n",
    "print(\"Correlation of changes: \", correlation2)\n"
   ]
  },
  {
   "cell_type": "markdown",
   "metadata": {},
   "source": [
    "## Looking at a Regression's R-Squared"
   ]
  },
  {
   "cell_type": "code",
   "execution_count": null,
   "metadata": {
    "collapsed": true
   },
   "outputs": [],
   "source": [
    "# Import the statsmodels module\n",
    "import statsmodels.api as sm\n",
    "\n",
    "# Compute correlation of x and y\n",
    "correlation = x.corr(y)\n",
    "print(\"The correlation between x and y is %4.2f\" %(correlation))\n",
    "\n",
    "# Convert the Series x to a DataFrame and name the column x\n",
    "x = pd.DataFrame(x, columns=['x'])\n",
    "\n",
    "# Add a constant to the DataFrame x\n",
    "x = sm.add_constant(x)\n",
    "\n",
    "# Fit the regression of y on x\n",
    "result = sm.OLS(y,x).fit()\n",
    "\n",
    "# Print out the results and look at the relationship between R-squared and the correlation above\n",
    "print(result.summary())\n"
   ]
  },
  {
   "cell_type": "markdown",
   "metadata": {},
   "source": [
    "## autocorrelation"
   ]
  },
  {
   "cell_type": "code",
   "execution_count": null,
   "metadata": {
    "collapsed": true
   },
   "outputs": [],
   "source": [
    "# Convert the daily data to weekly data\n",
    "MSFT = MSFT.resample(rule='W',how='last')\n",
    "\n",
    "# Compute the percentage change of prices\n",
    "returns = MSFT.pct_change()\n",
    "\n",
    "# Compute and print the autocorrelation of returns\n",
    "autocorrelation = returns['Adj Close'].autocorr()\n",
    "print(\"The autocorrelation of weekly returns is %4.2f\" %(autocorrelation))\n"
   ]
  },
  {
   "cell_type": "code",
   "execution_count": null,
   "metadata": {
    "collapsed": true
   },
   "outputs": [],
   "source": [
    "# Compute the daily change in interest rates \n",
    "daily_data['change_rates'] = daily_data.diff()\n",
    "\n",
    "# Compute and print the autocorrelation of daily changes\n",
    "autocorrelation_daily = daily_data['change_rates'].autocorr()\n",
    "print(\"The autocorrelation of daily interest rate changes is %4.2f\" %(autocorrelation_daily))\n",
    "\n",
    "# Convert the daily data to annual data\n",
    "annual_data = daily_data['US10Y'].resample(rule='A',how='last')\n",
    "\n",
    "# Repeat above for annual data\n",
    "annual_data['diff_rates'] = annual_data.diff()\n",
    "autocorrelation_annual = annual_data['diff_rates'].autocorr()\n",
    "print(\"The autocorrelation of annual interest rate changes is %4.2f\" %(autocorrelation_annual))\n"
   ]
  }
 ],
 "metadata": {
  "kernelspec": {
   "display_name": "Python 2",
   "language": "python",
   "name": "python2"
  },
  "language_info": {
   "codemirror_mode": {
    "name": "ipython",
    "version": 2
   },
   "file_extension": ".py",
   "mimetype": "text/x-python",
   "name": "python",
   "nbconvert_exporter": "python",
   "pygments_lexer": "ipython2",
   "version": "2.7.11"
  }
 },
 "nbformat": 4,
 "nbformat_minor": 0
}
