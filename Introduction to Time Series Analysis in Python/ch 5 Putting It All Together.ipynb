{
 "cells": [
  {
   "cell_type": "markdown",
   "metadata": {},
   "source": [
    "# Ch 5: Putting It All Together"
   ]
  },
  {
   "cell_type": "code",
   "execution_count": null,
   "metadata": {
    "collapsed": true
   },
   "outputs": [],
   "source": [
    "# Plot the prices separately\n",
    "# Make sure you multiply the HO price by 7.25 to match the units of NG\n",
    "plt.subplot(2,1,1)\n",
    "plt.plot(7.25*HO, label='Heating Oil')\n",
    "plt.plot(NG, label='Natural Gas')\n",
    "plt.legend(loc='best', fontsize='small')\n",
    "\n",
    "# Plot the spread\n",
    "plt.subplot(2,1,2)\n",
    "plt.plot(7.25*HO-NG, label='Spread')\n",
    "plt.legend(loc='best', fontsize='small')\n",
    "plt.axhline(y=0, linestyle='--', color='k')\n",
    "plt.show()\n",
    "# Notice from the plot that when Heating Oil briefly dipped below Natural Gas, it quickly reverted back up.\n"
   ]
  },
  {
   "cell_type": "code",
   "execution_count": null,
   "metadata": {
    "collapsed": true
   },
   "outputs": [],
   "source": [
    "# Import the adfuller module from statsmodels\n",
    "from statsmodels.tsa.stattools import adfuller\n",
    "\n",
    "# Compute the ADF for HO and NG\n",
    "result_HO = adfuller(HO['Close'])\n",
    "print(\"The p-value for the ADF test on HO is \", result_HO[1])\n",
    "result_NG = adfuller(NG['Close'])\n",
    "print(\"The p-value for the ADF test on NG is \", result_NG[1])\n",
    "\n",
    "# Compute the ADF of the spread\n",
    "result_spread = adfuller(7.25 * HO['Close'] - NG['Close'])\n",
    "print(\"The p-value for the ADF test on the spread is \", result_spread[1])\n",
    "# As we expected, we cannot reject the hypothesis that the individual futures are random walks, but we can reject that \n",
    "# the spread is a random walk.\n"
   ]
  },
  {
   "cell_type": "code",
   "execution_count": null,
   "metadata": {
    "collapsed": true
   },
   "outputs": [],
   "source": [
    "# Import the statsmodels module for regression and the adfuller function\n",
    "import statsmodels.api as sm\n",
    "from statsmodels.tsa.stattools import adfuller\n",
    "\n",
    "# Regress BTC on ETH\n",
    "ETH = sm.add_constant(ETH)\n",
    "result = sm.OLS(BTC,ETH).fit()\n",
    "\n",
    "# Compute ADF\n",
    "b = result.params[1]\n",
    "adf_stats = adfuller(BTC['Price'] - b*ETH['Price'])\n",
    "print(\"The p-value for the ADF test is \", adf_stats[1])\n",
    "# The data suggests that Bitcoin and Ethereum are cointegrated.\n",
    "# The p-value for the ADF test is  0.0233690023235\n"
   ]
  },
  {
   "cell_type": "code",
   "execution_count": null,
   "metadata": {
    "collapsed": true
   },
   "outputs": [],
   "source": [
    "# Import the adfuller function from the statsmodels module\n",
    "from statsmodels.tsa.stattools import adfuller\n",
    "\n",
    "# Convert the index to a datetime object\n",
    "temp_NY.index = pd.to_datetime(temp_NY.index, format='%Y')\n",
    "\n",
    "# Plot average temperatures\n",
    "temp_NY.plot()\n",
    "plt.show()\n",
    "\n",
    "# Compute and print ADF p-value\n",
    "result = adfuller(temp_NY['TAVG'])\n",
    "print(\"The p-value for the ADF test is \", result[1])\n",
    "# The data seems to follow a random walk with drift.\n"
   ]
  },
  {
   "cell_type": "markdown",
   "metadata": {},
   "source": [
    "## Look at Autocorrelations"
   ]
  },
  {
   "cell_type": "code",
   "execution_count": null,
   "metadata": {
    "collapsed": true
   },
   "outputs": [],
   "source": [
    "# Import the modules for plotting the sample ACF and PACF\n",
    "from statsmodels.graphics.tsaplots import plot_acf, plot_pacf\n",
    "\n",
    "# Take first difference of the temperature Series\n",
    "chg_temp = temp_NY.diff()\n",
    "chg_temp = chg_temp.dropna()\n",
    "\n",
    "# Plot the ACF and PACF on the same page\n",
    "fig, axes = plt.subplots(2,1)\n",
    "\n",
    "# Plot the ACF\n",
    "plot_acf(chg_temp, lags=20, ax=axes[0])\n",
    "\n",
    "# Plot the PACF\n",
    "plot_pacf(chg_temp, lags=20, ax=axes[1])\n",
    "plt.show()\n",
    "# There is no clear pattern in the ACF and PACF except the negative lag-1 autocorrelation in the ACF.\n"
   ]
  },
  {
   "cell_type": "markdown",
   "metadata": {},
   "source": [
    "## Which ARMA Model is Best?"
   ]
  },
  {
   "cell_type": "code",
   "execution_count": null,
   "metadata": {
    "collapsed": true
   },
   "outputs": [],
   "source": [
    "# Import the module for estimating an ARMA model\n",
    "from statsmodels.tsa.arima_model import ARMA\n",
    "\n",
    "# Fit the data to an AR(1) model and print AIC:\n",
    "mod = ARMA(chg_temp, order=(1,0))\n",
    "res = mod.fit()\n",
    "print(\"The AIC for an AR(1) is: \", res.aic)\n",
    "\n",
    "# Fit the data to an AR(2) model and print AIC:\n",
    "mod = ARMA(chg_temp, order=(2,0))\n",
    "res = mod.fit()\n",
    "print(\"The AIC for an AR(2) is: \", res.aic)\n",
    "\n",
    "# Fit the data to an MA(1) model and print AIC:\n",
    "mod = ARMA(chg_temp, order=(0,1))\n",
    "res = mod.fit()\n",
    "print(\"The AIC for an MA(1) is: \", res.aic)\n",
    "\n",
    "# Fit the data to an ARMA(1,1) model and print AIC:\n",
    "mod = ARMA(chg_temp, order=(1,1))\n",
    "res = mod.fit()\n",
    "print(\"The AIC for an ARMA(1,1) is: \", res.aic)\n"
   ]
  },
  {
   "cell_type": "code",
   "execution_count": null,
   "metadata": {
    "collapsed": true
   },
   "outputs": [],
   "source": [
    "# Import the ARIMA module from statsmodels\n",
    "from statsmodels.tsa.arima_model import ARIMA\n",
    "\n",
    "# Forecast interest rates using an AR(1) model\n",
    "# The d in order(p,d,q) is one, since we first differenced once\n",
    "mod = ARIMA(temp_NY, order=(1,1,1))\n",
    "res = mod.fit()\n",
    "\n",
    "# Plot the original series and the forecasted series\n",
    "res.plot_predict(start='1872-01-01', end='2046-01-01')\n",
    "plt.show()\n",
    "# According to the model (almost entirely due to the trend, the temperature is expected to be about 0.6 degrees \n",
    "# higher in 30 years, but the 95% confidence interval around that is over 5 degrees."
   ]
  }
 ],
 "metadata": {
  "kernelspec": {
   "display_name": "Python 2",
   "language": "python",
   "name": "python2"
  },
  "language_info": {
   "codemirror_mode": {
    "name": "ipython",
    "version": 2
   },
   "file_extension": ".py",
   "mimetype": "text/x-python",
   "name": "python",
   "nbconvert_exporter": "python",
   "pygments_lexer": "ipython2",
   "version": "2.7.11"
  }
 },
 "nbformat": 4,
 "nbformat_minor": 0
}
